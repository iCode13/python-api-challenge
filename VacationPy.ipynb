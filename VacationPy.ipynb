{
 "cells": [
  {
   "cell_type": "markdown",
   "metadata": {},
   "source": [
    "# VacationPy"
   ]
  },
  {
   "cell_type": "code",
   "execution_count": 1,
   "metadata": {},
   "outputs": [],
   "source": [
    "# Dependencies and setup\n",
    "import pandas as pd\n",
    "import requests\n",
    "import plotly.express as px\n",
    "\n",
    "# Import API key\n",
    "from api_keys import g_key\n",
    "from api_keys import m_key\n",
    "\n",
    "# Set mapbox token\n",
    "px.set_mapbox_access_token(m_key)"
   ]
  },
  {
   "cell_type": "code",
   "execution_count": 2,
   "metadata": {},
   "outputs": [
    {
     "data": {
      "text/html": [
       "<div>\n",
       "<style scoped>\n",
       "    .dataframe tbody tr th:only-of-type {\n",
       "        vertical-align: middle;\n",
       "    }\n",
       "\n",
       "    .dataframe tbody tr th {\n",
       "        vertical-align: top;\n",
       "    }\n",
       "\n",
       "    .dataframe thead th {\n",
       "        text-align: right;\n",
       "    }\n",
       "</style>\n",
       "<table border=\"1\" class=\"dataframe\">\n",
       "  <thead>\n",
       "    <tr style=\"text-align: right;\">\n",
       "      <th></th>\n",
       "      <th>City</th>\n",
       "      <th>Latitude</th>\n",
       "      <th>Longitude</th>\n",
       "      <th>Country</th>\n",
       "      <th>Wind Speed</th>\n",
       "      <th>Max Temp</th>\n",
       "      <th>Humidity</th>\n",
       "      <th>Cloudiness</th>\n",
       "      <th>Date</th>\n",
       "    </tr>\n",
       "    <tr>\n",
       "      <th>City_ID</th>\n",
       "      <th></th>\n",
       "      <th></th>\n",
       "      <th></th>\n",
       "      <th></th>\n",
       "      <th></th>\n",
       "      <th></th>\n",
       "      <th></th>\n",
       "      <th></th>\n",
       "      <th></th>\n",
       "    </tr>\n",
       "  </thead>\n",
       "  <tbody>\n",
       "    <tr>\n",
       "      <th>0</th>\n",
       "      <td>honiara</td>\n",
       "      <td>-9.43</td>\n",
       "      <td>159.95</td>\n",
       "      <td>SB</td>\n",
       "      <td>12.75</td>\n",
       "      <td>87.80</td>\n",
       "      <td>62</td>\n",
       "      <td>40</td>\n",
       "      <td>1601166207</td>\n",
       "    </tr>\n",
       "    <tr>\n",
       "      <th>1</th>\n",
       "      <td>san vicente de canete</td>\n",
       "      <td>-13.08</td>\n",
       "      <td>-76.38</td>\n",
       "      <td>PE</td>\n",
       "      <td>3.87</td>\n",
       "      <td>61.05</td>\n",
       "      <td>80</td>\n",
       "      <td>12</td>\n",
       "      <td>1601166207</td>\n",
       "    </tr>\n",
       "    <tr>\n",
       "      <th>2</th>\n",
       "      <td>klaksvik</td>\n",
       "      <td>62.23</td>\n",
       "      <td>-6.59</td>\n",
       "      <td>FO</td>\n",
       "      <td>11.41</td>\n",
       "      <td>44.60</td>\n",
       "      <td>87</td>\n",
       "      <td>100</td>\n",
       "      <td>1601166207</td>\n",
       "    </tr>\n",
       "    <tr>\n",
       "      <th>3</th>\n",
       "      <td>kysyl-syr</td>\n",
       "      <td>63.90</td>\n",
       "      <td>122.76</td>\n",
       "      <td>RU</td>\n",
       "      <td>6.33</td>\n",
       "      <td>47.34</td>\n",
       "      <td>91</td>\n",
       "      <td>100</td>\n",
       "      <td>1601166207</td>\n",
       "    </tr>\n",
       "    <tr>\n",
       "      <th>4</th>\n",
       "      <td>haines junction</td>\n",
       "      <td>60.75</td>\n",
       "      <td>-137.51</td>\n",
       "      <td>CA</td>\n",
       "      <td>7.20</td>\n",
       "      <td>49.55</td>\n",
       "      <td>65</td>\n",
       "      <td>88</td>\n",
       "      <td>1601166182</td>\n",
       "    </tr>\n",
       "    <tr>\n",
       "      <th>...</th>\n",
       "      <td>...</td>\n",
       "      <td>...</td>\n",
       "      <td>...</td>\n",
       "      <td>...</td>\n",
       "      <td>...</td>\n",
       "      <td>...</td>\n",
       "      <td>...</td>\n",
       "      <td>...</td>\n",
       "      <td>...</td>\n",
       "    </tr>\n",
       "    <tr>\n",
       "      <th>565</th>\n",
       "      <td>nago</td>\n",
       "      <td>26.59</td>\n",
       "      <td>127.98</td>\n",
       "      <td>JP</td>\n",
       "      <td>3.36</td>\n",
       "      <td>71.60</td>\n",
       "      <td>88</td>\n",
       "      <td>90</td>\n",
       "      <td>1601166337</td>\n",
       "    </tr>\n",
       "    <tr>\n",
       "      <th>566</th>\n",
       "      <td>delta</td>\n",
       "      <td>5.50</td>\n",
       "      <td>6.00</td>\n",
       "      <td>NG</td>\n",
       "      <td>1.81</td>\n",
       "      <td>73.17</td>\n",
       "      <td>96</td>\n",
       "      <td>100</td>\n",
       "      <td>1601166337</td>\n",
       "    </tr>\n",
       "    <tr>\n",
       "      <th>567</th>\n",
       "      <td>maldonado</td>\n",
       "      <td>-34.67</td>\n",
       "      <td>-54.92</td>\n",
       "      <td>UY</td>\n",
       "      <td>4.70</td>\n",
       "      <td>62.60</td>\n",
       "      <td>88</td>\n",
       "      <td>75</td>\n",
       "      <td>1601166110</td>\n",
       "    </tr>\n",
       "    <tr>\n",
       "      <th>568</th>\n",
       "      <td>hammerfest</td>\n",
       "      <td>70.66</td>\n",
       "      <td>23.68</td>\n",
       "      <td>NO</td>\n",
       "      <td>21.92</td>\n",
       "      <td>41.00</td>\n",
       "      <td>65</td>\n",
       "      <td>13</td>\n",
       "      <td>1601166337</td>\n",
       "    </tr>\n",
       "    <tr>\n",
       "      <th>569</th>\n",
       "      <td>west wendover</td>\n",
       "      <td>40.74</td>\n",
       "      <td>-114.07</td>\n",
       "      <td>US</td>\n",
       "      <td>13.87</td>\n",
       "      <td>71.60</td>\n",
       "      <td>35</td>\n",
       "      <td>1</td>\n",
       "      <td>1601166338</td>\n",
       "    </tr>\n",
       "  </tbody>\n",
       "</table>\n",
       "<p>570 rows × 9 columns</p>\n",
       "</div>"
      ],
      "text/plain": [
       "                          City  Latitude  Longitude Country  Wind Speed  \\\n",
       "City_ID                                                                   \n",
       "0                      honiara     -9.43     159.95      SB       12.75   \n",
       "1        san vicente de canete    -13.08     -76.38      PE        3.87   \n",
       "2                     klaksvik     62.23      -6.59      FO       11.41   \n",
       "3                    kysyl-syr     63.90     122.76      RU        6.33   \n",
       "4              haines junction     60.75    -137.51      CA        7.20   \n",
       "...                        ...       ...        ...     ...         ...   \n",
       "565                       nago     26.59     127.98      JP        3.36   \n",
       "566                      delta      5.50       6.00      NG        1.81   \n",
       "567                  maldonado    -34.67     -54.92      UY        4.70   \n",
       "568                 hammerfest     70.66      23.68      NO       21.92   \n",
       "569              west wendover     40.74    -114.07      US       13.87   \n",
       "\n",
       "         Max Temp  Humidity  Cloudiness        Date  \n",
       "City_ID                                              \n",
       "0           87.80        62          40  1601166207  \n",
       "1           61.05        80          12  1601166207  \n",
       "2           44.60        87         100  1601166207  \n",
       "3           47.34        91         100  1601166207  \n",
       "4           49.55        65          88  1601166182  \n",
       "...           ...       ...         ...         ...  \n",
       "565         71.60        88          90  1601166337  \n",
       "566         73.17        96         100  1601166337  \n",
       "567         62.60        88          75  1601166110  \n",
       "568         41.00        65          13  1601166337  \n",
       "569         71.60        35           1  1601166338  \n",
       "\n",
       "[570 rows x 9 columns]"
      ]
     },
     "execution_count": 2,
     "metadata": {},
     "output_type": "execute_result"
    }
   ],
   "source": [
    "# Import data saved as a csv file in Part I (WeatherPy)\n",
    "city_weather_data = pd.read_csv(\"output_data/cities.csv\", index_col=0)\n",
    "city_weather_data"
   ]
  },
  {
   "cell_type": "code",
   "execution_count": 3,
   "metadata": {},
   "outputs": [
    {
     "data": {
      "text/html": [
       "<div>\n",
       "<style scoped>\n",
       "    .dataframe tbody tr th:only-of-type {\n",
       "        vertical-align: middle;\n",
       "    }\n",
       "\n",
       "    .dataframe tbody tr th {\n",
       "        vertical-align: top;\n",
       "    }\n",
       "\n",
       "    .dataframe thead th {\n",
       "        text-align: right;\n",
       "    }\n",
       "</style>\n",
       "<table border=\"1\" class=\"dataframe\">\n",
       "  <thead>\n",
       "    <tr style=\"text-align: right;\">\n",
       "      <th></th>\n",
       "      <th>City</th>\n",
       "      <th>Latitude</th>\n",
       "      <th>Longitude</th>\n",
       "      <th>Country</th>\n",
       "      <th>Wind Speed</th>\n",
       "      <th>Max Temp</th>\n",
       "      <th>Humidity</th>\n",
       "      <th>Cloudiness</th>\n",
       "      <th>Date</th>\n",
       "    </tr>\n",
       "    <tr>\n",
       "      <th>City_ID</th>\n",
       "      <th></th>\n",
       "      <th></th>\n",
       "      <th></th>\n",
       "      <th></th>\n",
       "      <th></th>\n",
       "      <th></th>\n",
       "      <th></th>\n",
       "      <th></th>\n",
       "      <th></th>\n",
       "    </tr>\n",
       "  </thead>\n",
       "  <tbody>\n",
       "    <tr>\n",
       "      <th>33</th>\n",
       "      <td>amambai</td>\n",
       "      <td>-23.10</td>\n",
       "      <td>-55.23</td>\n",
       "      <td>BR</td>\n",
       "      <td>5.64</td>\n",
       "      <td>79.83</td>\n",
       "      <td>35</td>\n",
       "      <td>0</td>\n",
       "      <td>1601166214</td>\n",
       "    </tr>\n",
       "    <tr>\n",
       "      <th>141</th>\n",
       "      <td>marsa matruh</td>\n",
       "      <td>31.35</td>\n",
       "      <td>27.25</td>\n",
       "      <td>EG</td>\n",
       "      <td>6.93</td>\n",
       "      <td>75.20</td>\n",
       "      <td>73</td>\n",
       "      <td>0</td>\n",
       "      <td>1601166239</td>\n",
       "    </tr>\n",
       "    <tr>\n",
       "      <th>152</th>\n",
       "      <td>riyadh</td>\n",
       "      <td>24.69</td>\n",
       "      <td>46.72</td>\n",
       "      <td>SA</td>\n",
       "      <td>2.24</td>\n",
       "      <td>78.80</td>\n",
       "      <td>29</td>\n",
       "      <td>0</td>\n",
       "      <td>1601166231</td>\n",
       "    </tr>\n",
       "    <tr>\n",
       "      <th>153</th>\n",
       "      <td>gat</td>\n",
       "      <td>31.61</td>\n",
       "      <td>34.76</td>\n",
       "      <td>IL</td>\n",
       "      <td>5.73</td>\n",
       "      <td>75.99</td>\n",
       "      <td>74</td>\n",
       "      <td>0</td>\n",
       "      <td>1601166242</td>\n",
       "    </tr>\n",
       "    <tr>\n",
       "      <th>227</th>\n",
       "      <td>gorele</td>\n",
       "      <td>41.03</td>\n",
       "      <td>39.00</td>\n",
       "      <td>TR</td>\n",
       "      <td>2.24</td>\n",
       "      <td>71.60</td>\n",
       "      <td>64</td>\n",
       "      <td>0</td>\n",
       "      <td>1601166259</td>\n",
       "    </tr>\n",
       "    <tr>\n",
       "      <th>247</th>\n",
       "      <td>sakakah</td>\n",
       "      <td>29.97</td>\n",
       "      <td>40.21</td>\n",
       "      <td>SA</td>\n",
       "      <td>9.17</td>\n",
       "      <td>77.00</td>\n",
       "      <td>27</td>\n",
       "      <td>0</td>\n",
       "      <td>1601166264</td>\n",
       "    </tr>\n",
       "    <tr>\n",
       "      <th>261</th>\n",
       "      <td>victoria point</td>\n",
       "      <td>-27.58</td>\n",
       "      <td>153.30</td>\n",
       "      <td>AU</td>\n",
       "      <td>1.99</td>\n",
       "      <td>71.01</td>\n",
       "      <td>26</td>\n",
       "      <td>0</td>\n",
       "      <td>1601166267</td>\n",
       "    </tr>\n",
       "    <tr>\n",
       "      <th>326</th>\n",
       "      <td>thyolo</td>\n",
       "      <td>-16.07</td>\n",
       "      <td>35.14</td>\n",
       "      <td>MW</td>\n",
       "      <td>7.76</td>\n",
       "      <td>72.03</td>\n",
       "      <td>33</td>\n",
       "      <td>0</td>\n",
       "      <td>1601166282</td>\n",
       "    </tr>\n",
       "    <tr>\n",
       "      <th>342</th>\n",
       "      <td>senhor do bonfim</td>\n",
       "      <td>-10.46</td>\n",
       "      <td>-40.19</td>\n",
       "      <td>BR</td>\n",
       "      <td>9.69</td>\n",
       "      <td>72.72</td>\n",
       "      <td>57</td>\n",
       "      <td>0</td>\n",
       "      <td>1601166285</td>\n",
       "    </tr>\n",
       "    <tr>\n",
       "      <th>382</th>\n",
       "      <td>pirenopolis</td>\n",
       "      <td>-15.85</td>\n",
       "      <td>-48.96</td>\n",
       "      <td>BR</td>\n",
       "      <td>3.80</td>\n",
       "      <td>71.60</td>\n",
       "      <td>43</td>\n",
       "      <td>0</td>\n",
       "      <td>1601166295</td>\n",
       "    </tr>\n",
       "    <tr>\n",
       "      <th>420</th>\n",
       "      <td>buraydah</td>\n",
       "      <td>26.33</td>\n",
       "      <td>43.98</td>\n",
       "      <td>SA</td>\n",
       "      <td>5.82</td>\n",
       "      <td>78.80</td>\n",
       "      <td>29</td>\n",
       "      <td>0</td>\n",
       "      <td>1601166057</td>\n",
       "    </tr>\n",
       "    <tr>\n",
       "      <th>423</th>\n",
       "      <td>mandal</td>\n",
       "      <td>25.45</td>\n",
       "      <td>74.57</td>\n",
       "      <td>IN</td>\n",
       "      <td>5.23</td>\n",
       "      <td>71.28</td>\n",
       "      <td>78</td>\n",
       "      <td>0</td>\n",
       "      <td>1601166304</td>\n",
       "    </tr>\n",
       "    <tr>\n",
       "      <th>543</th>\n",
       "      <td>tukrah</td>\n",
       "      <td>32.53</td>\n",
       "      <td>20.58</td>\n",
       "      <td>LY</td>\n",
       "      <td>8.90</td>\n",
       "      <td>74.37</td>\n",
       "      <td>72</td>\n",
       "      <td>0</td>\n",
       "      <td>1601166332</td>\n",
       "    </tr>\n",
       "  </tbody>\n",
       "</table>\n",
       "</div>"
      ],
      "text/plain": [
       "                     City  Latitude  Longitude Country  Wind Speed  Max Temp  \\\n",
       "City_ID                                                                        \n",
       "33                amambai    -23.10     -55.23      BR        5.64     79.83   \n",
       "141          marsa matruh     31.35      27.25      EG        6.93     75.20   \n",
       "152                riyadh     24.69      46.72      SA        2.24     78.80   \n",
       "153                   gat     31.61      34.76      IL        5.73     75.99   \n",
       "227                gorele     41.03      39.00      TR        2.24     71.60   \n",
       "247               sakakah     29.97      40.21      SA        9.17     77.00   \n",
       "261        victoria point    -27.58     153.30      AU        1.99     71.01   \n",
       "326                thyolo    -16.07      35.14      MW        7.76     72.03   \n",
       "342      senhor do bonfim    -10.46     -40.19      BR        9.69     72.72   \n",
       "382           pirenopolis    -15.85     -48.96      BR        3.80     71.60   \n",
       "420              buraydah     26.33      43.98      SA        5.82     78.80   \n",
       "423                mandal     25.45      74.57      IN        5.23     71.28   \n",
       "543                tukrah     32.53      20.58      LY        8.90     74.37   \n",
       "\n",
       "         Humidity  Cloudiness        Date  \n",
       "City_ID                                    \n",
       "33             35           0  1601166214  \n",
       "141            73           0  1601166239  \n",
       "152            29           0  1601166231  \n",
       "153            74           0  1601166242  \n",
       "227            64           0  1601166259  \n",
       "247            27           0  1601166264  \n",
       "261            26           0  1601166267  \n",
       "326            33           0  1601166282  \n",
       "342            57           0  1601166285  \n",
       "382            43           0  1601166295  \n",
       "420            29           0  1601166057  \n",
       "423            78           0  1601166304  \n",
       "543            72           0  1601166332  "
      ]
     },
     "execution_count": 3,
     "metadata": {},
     "output_type": "execute_result"
    }
   ],
   "source": [
    "# Create new dataframe fitting weather criteria of choice\n",
    "\n",
    "df = city_weather_data.loc[(city_weather_data[\"Max Temp\"] < 80) & (city_weather_data[\"Max Temp\"] > 70) \\\n",
    "                                  & (city_weather_data[\"Wind Speed\"] < 10) \\\n",
    "                                  & (city_weather_data[\"Cloudiness\"] == 0)].dropna()\n",
    "\n",
    "df"
   ]
  },
  {
   "cell_type": "code",
   "execution_count": 4,
   "metadata": {},
   "outputs": [],
   "source": [
    "# # Adding new blank column to dataframe to add hotel names and each of their lat-longs.\n",
    "# df[\"Hotel Name\"] = \"\"\n",
    "# df"
   ]
  },
  {
   "cell_type": "code",
   "execution_count": 5,
   "metadata": {},
   "outputs": [],
   "source": [
    "# Create lat/long string for API calls abd add to dataframe\n",
    "df[\"City_Lat_Lng\"] = df[\"Latitude\"].astype(str) + \",\" + df[\"Longitude\"].astype(str)\n",
    "\n",
    "# Create list\n",
    "city_lat_lng = df[\"City_Lat_Lng\"] .tolist()"
   ]
  },
  {
   "cell_type": "code",
   "execution_count": 6,
   "metadata": {},
   "outputs": [],
   "source": [
    "hotels = requests.get(\"https://maps.googleapis.com/maps/api/place/nearbysearch/json\", params={\n",
    "    \"location\": city_lat_lng, \n",
    "    \"keyword\": \"hotel\", \n",
    "    \"type\": \"hotel\", \n",
    "    \"radius\": 5000, \n",
    "    \"key\": g_key\n",
    "}).json()"
   ]
  },
  {
   "cell_type": "code",
   "execution_count": 7,
   "metadata": {},
   "outputs": [
    {
     "data": {
      "text/plain": [
       "{'business_status': 'OPERATIONAL',\n",
       " 'geometry': {'location': {'lat': -23.1048301, 'lng': -55.22182},\n",
       "  'viewport': {'northeast': {'lat': -23.10357337010727,\n",
       "    'lng': -55.22041962010729},\n",
       "   'southwest': {'lat': -23.10627302989272, 'lng': -55.22311927989273}}},\n",
       " 'icon': 'https://maps.gstatic.com/mapfiles/place_api/icons/lodging-71.png',\n",
       " 'name': 'Hotel Royal em Amambai',\n",
       " 'opening_hours': {'open_now': True},\n",
       " 'photos': [{'height': 3024,\n",
       "   'html_attributions': ['<a href=\"https://maps.google.com/maps/contrib/111332270340341938624\">A Google User</a>'],\n",
       "   'photo_reference': 'CmRaAAAA4KEwEZHsNwvcP5aH6tV7LH-VRz-paW6OEWmPe59VHedOmABFHefYTu4IIbFnaJ9iikB_XX0we1kVI0wXO2w3qZKMsVUP0i0U7MtVox0iF4dW6M_sM5sbrfpLmYmLRNl7EhD4Y6GaNPhRjKySxozvglJqGhSayVMYv0Tbj4DBGmVui6dDSlpR3Q',\n",
       "   'width': 4032}],\n",
       " 'place_id': 'ChIJbcOlTbMXipQR3sOg8Sna5L0',\n",
       " 'plus_code': {'compound_code': 'VQWH+37 Amambai, State of Mato Grosso do Sul, Brazil',\n",
       "  'global_code': '5886VQWH+37'},\n",
       " 'rating': 4.8,\n",
       " 'reference': 'ChIJbcOlTbMXipQR3sOg8Sna5L0',\n",
       " 'scope': 'GOOGLE',\n",
       " 'types': ['lodging', 'point_of_interest', 'establishment'],\n",
       " 'user_ratings_total': 30,\n",
       " 'vicinity': 'Av. Nicolau Otano, 1542 - Vila Manvailer, Amambaí'}"
      ]
     },
     "execution_count": 7,
     "metadata": {},
     "output_type": "execute_result"
    }
   ],
   "source": [
    "hotels[\"results\"][0]"
   ]
  },
  {
   "cell_type": "code",
   "execution_count": 8,
   "metadata": {},
   "outputs": [],
   "source": [
    "# Function to extract data\n",
    "def extract_data(data):\n",
    "        data = data[\"results\"][0]\n",
    "        return {\n",
    "            \"Hotel Name\" : data[\"name\"],\n",
    "            \"Hotel Latitude\" : data[\"geometry\"][\"location\"][\"lat\"],\n",
    "            \"Hotel Longitude\" : data[\"geometry\"][\"location\"][\"lng\"]\n",
    "        }"
   ]
  },
  {
   "cell_type": "code",
   "execution_count": 9,
   "metadata": {},
   "outputs": [
    {
     "name": "stdout",
     "output_type": "stream",
     "text": [
      "--------BEGINNING DATA RETRIEVAL--------\n",
      "------------------------------------------------------------------------\n",
      "Processing Record 1 | -23.1,-55.23\n",
      "------------------------------------------------------------------------\n",
      "Processing Record 2 | 31.35,27.25\n",
      "------------------------------------------------------------------------\n",
      "Processing Record 3 | 24.69,46.72\n",
      "------------------------------------------------------------------------\n",
      "Processing Record 4 | 31.61,34.76\n",
      "------------------------------------------------------------------------\n",
      "Processing Record 5 | 41.03,39.0\n",
      "Sorry, could not locate a hotel within provided radius of city location!\n",
      "------------------------------------------------------------------------\n",
      "Processing Record 6 | 29.97,40.21\n",
      "------------------------------------------------------------------------\n",
      "Processing Record 7 | -27.58,153.3\n",
      "------------------------------------------------------------------------\n",
      "Processing Record 8 | -16.07,35.14\n",
      "------------------------------------------------------------------------\n",
      "Processing Record 9 | -10.46,-40.19\n",
      "------------------------------------------------------------------------\n",
      "Processing Record 10 | -15.85,-48.96\n",
      "------------------------------------------------------------------------\n",
      "Processing Record 11 | 26.33,43.98\n",
      "------------------------------------------------------------------------\n",
      "Processing Record 12 | 25.45,74.57\n",
      "------------------------------------------------------------------------\n",
      "Processing Record 13 | 32.53,20.58\n",
      "------------------------------------------------------------------------\n",
      "--------SEARCH COMPLETE--------\n"
     ]
    }
   ],
   "source": [
    "# Request data from Google Places api\n",
    "\n",
    "hotel_locs = []\n",
    "\n",
    "# Print header to indicate beginning of data retrieval\n",
    "print(\"--------BEGINNING DATA RETRIEVAL--------\")  \n",
    "print(\"------------------------------------------------------------------------\")\n",
    "\n",
    "# Counter for output\n",
    "record = 1\n",
    "\n",
    "for coordinates in city_lat_lng:\n",
    "    \n",
    "    try: \n",
    "        print(f\"Processing Record {record} | {coordinates}\")\n",
    "        \n",
    "        record += 1\n",
    "        \n",
    "        output = requests.get(\"https://maps.googleapis.com/maps/api/place/nearbysearch/json\", params={\n",
    "                \"location\": coordinates, \n",
    "                \"keyword\": \"hotel\", \n",
    "                \"type\": \"hotel\", \n",
    "                \"radius\": 5000, \n",
    "                \"key\": g_key\n",
    "        }).json()\n",
    "        \n",
    "        hotel_loc = extract_data(output)\n",
    "        hotel_locs.append(hotel_loc)\n",
    "    \n",
    "    except:\n",
    "        print(\"Sorry, could not locate a hotel within provided radius of city location!\")\n",
    "        pass\n",
    "        \n",
    "    print(\"------------------------------------------------------------------------\")\n",
    "print(\"--------SEARCH COMPLETE--------\")"
   ]
  },
  {
   "cell_type": "code",
   "execution_count": 10,
   "metadata": {},
   "outputs": [
    {
     "data": {
      "text/html": [
       "<div>\n",
       "<style scoped>\n",
       "    .dataframe tbody tr th:only-of-type {\n",
       "        vertical-align: middle;\n",
       "    }\n",
       "\n",
       "    .dataframe tbody tr th {\n",
       "        vertical-align: top;\n",
       "    }\n",
       "\n",
       "    .dataframe thead th {\n",
       "        text-align: right;\n",
       "    }\n",
       "</style>\n",
       "<table border=\"1\" class=\"dataframe\">\n",
       "  <thead>\n",
       "    <tr style=\"text-align: right;\">\n",
       "      <th></th>\n",
       "      <th>Hotel Name</th>\n",
       "      <th>Hotel Latitude</th>\n",
       "      <th>Hotel Longitude</th>\n",
       "    </tr>\n",
       "  </thead>\n",
       "  <tbody>\n",
       "    <tr>\n",
       "      <th>0</th>\n",
       "      <td>Hotel Royal em Amambai</td>\n",
       "      <td>-23.104830</td>\n",
       "      <td>-55.221820</td>\n",
       "    </tr>\n",
       "    <tr>\n",
       "      <th>1</th>\n",
       "      <td>Jewel Matrouh Hotel</td>\n",
       "      <td>31.360085</td>\n",
       "      <td>27.222614</td>\n",
       "    </tr>\n",
       "    <tr>\n",
       "      <th>2</th>\n",
       "      <td>ibis Riyadh Olaya Street</td>\n",
       "      <td>24.711981</td>\n",
       "      <td>46.676870</td>\n",
       "    </tr>\n",
       "    <tr>\n",
       "      <th>3</th>\n",
       "      <td>Desert Gat</td>\n",
       "      <td>31.603043</td>\n",
       "      <td>34.763726</td>\n",
       "    </tr>\n",
       "    <tr>\n",
       "      <th>4</th>\n",
       "      <td>Raoum Inn Hotel</td>\n",
       "      <td>29.945274</td>\n",
       "      <td>40.181156</td>\n",
       "    </tr>\n",
       "    <tr>\n",
       "      <th>5</th>\n",
       "      <td>Cleveland Visitor Villas Motel</td>\n",
       "      <td>-27.532994</td>\n",
       "      <td>153.266890</td>\n",
       "    </tr>\n",
       "    <tr>\n",
       "      <th>6</th>\n",
       "      <td>Chawani Bungalow</td>\n",
       "      <td>-16.053739</td>\n",
       "      <td>35.112292</td>\n",
       "    </tr>\n",
       "    <tr>\n",
       "      <th>7</th>\n",
       "      <td>NOVOLESTE Hotel</td>\n",
       "      <td>-10.459476</td>\n",
       "      <td>-40.188150</td>\n",
       "    </tr>\n",
       "    <tr>\n",
       "      <th>8</th>\n",
       "      <td>Pousada Villa das Pedras - Hotel in Pirenópoli...</td>\n",
       "      <td>-15.873014</td>\n",
       "      <td>-48.936152</td>\n",
       "    </tr>\n",
       "    <tr>\n",
       "      <th>9</th>\n",
       "      <td>Mövenpick Hotel Qassim</td>\n",
       "      <td>26.357830</td>\n",
       "      <td>43.967881</td>\n",
       "    </tr>\n",
       "    <tr>\n",
       "      <th>10</th>\n",
       "      <td>Payal Resorts</td>\n",
       "      <td>25.417226</td>\n",
       "      <td>74.611227</td>\n",
       "    </tr>\n",
       "    <tr>\n",
       "      <th>11</th>\n",
       "      <td>قاعدة فيقا فيقا</td>\n",
       "      <td>32.533817</td>\n",
       "      <td>20.593710</td>\n",
       "    </tr>\n",
       "  </tbody>\n",
       "</table>\n",
       "</div>"
      ],
      "text/plain": [
       "                                           Hotel Name  Hotel Latitude  \\\n",
       "0                              Hotel Royal em Amambai      -23.104830   \n",
       "1                                 Jewel Matrouh Hotel       31.360085   \n",
       "2                            ibis Riyadh Olaya Street       24.711981   \n",
       "3                                          Desert Gat       31.603043   \n",
       "4                                     Raoum Inn Hotel       29.945274   \n",
       "5                      Cleveland Visitor Villas Motel      -27.532994   \n",
       "6                                    Chawani Bungalow      -16.053739   \n",
       "7                                     NOVOLESTE Hotel      -10.459476   \n",
       "8   Pousada Villa das Pedras - Hotel in Pirenópoli...      -15.873014   \n",
       "9                              Mövenpick Hotel Qassim       26.357830   \n",
       "10                                      Payal Resorts       25.417226   \n",
       "11                                    قاعدة فيقا فيقا       32.533817   \n",
       "\n",
       "    Hotel Longitude  \n",
       "0        -55.221820  \n",
       "1         27.222614  \n",
       "2         46.676870  \n",
       "3         34.763726  \n",
       "4         40.181156  \n",
       "5        153.266890  \n",
       "6         35.112292  \n",
       "7        -40.188150  \n",
       "8        -48.936152  \n",
       "9         43.967881  \n",
       "10        74.611227  \n",
       "11        20.593710  "
      ]
     },
     "execution_count": 10,
     "metadata": {},
     "output_type": "execute_result"
    }
   ],
   "source": [
    "hotel_df = pd.DataFrame(hotel_locs)\n",
    "hotel_df"
   ]
  },
  {
   "cell_type": "code",
   "execution_count": 11,
   "metadata": {},
   "outputs": [
    {
     "data": {
      "text/html": [
       "<div>\n",
       "<style scoped>\n",
       "    .dataframe tbody tr th:only-of-type {\n",
       "        vertical-align: middle;\n",
       "    }\n",
       "\n",
       "    .dataframe tbody tr th {\n",
       "        vertical-align: top;\n",
       "    }\n",
       "\n",
       "    .dataframe thead th {\n",
       "        text-align: right;\n",
       "    }\n",
       "</style>\n",
       "<table border=\"1\" class=\"dataframe\">\n",
       "  <thead>\n",
       "    <tr style=\"text-align: right;\">\n",
       "      <th></th>\n",
       "      <th>Hotel Name</th>\n",
       "      <th>Hotel Latitude</th>\n",
       "      <th>Hotel Longitude</th>\n",
       "      <th>City</th>\n",
       "      <th>Latitude</th>\n",
       "      <th>Longitude</th>\n",
       "      <th>Country</th>\n",
       "      <th>Wind Speed</th>\n",
       "      <th>Max Temp</th>\n",
       "      <th>Humidity</th>\n",
       "      <th>Cloudiness</th>\n",
       "      <th>Date</th>\n",
       "      <th>City_Lat_Lng</th>\n",
       "    </tr>\n",
       "  </thead>\n",
       "  <tbody>\n",
       "    <tr>\n",
       "      <th>0</th>\n",
       "      <td>Hotel Royal em Amambai</td>\n",
       "      <td>-23.0</td>\n",
       "      <td>-55.0</td>\n",
       "      <td>amambai</td>\n",
       "      <td>-23.0</td>\n",
       "      <td>-55.0</td>\n",
       "      <td>BR</td>\n",
       "      <td>5.64</td>\n",
       "      <td>79.83</td>\n",
       "      <td>35</td>\n",
       "      <td>0</td>\n",
       "      <td>1601166214</td>\n",
       "      <td>-23.1,-55.23</td>\n",
       "    </tr>\n",
       "    <tr>\n",
       "      <th>1</th>\n",
       "      <td>Jewel Matrouh Hotel</td>\n",
       "      <td>31.0</td>\n",
       "      <td>27.0</td>\n",
       "      <td>marsa matruh</td>\n",
       "      <td>31.0</td>\n",
       "      <td>27.0</td>\n",
       "      <td>EG</td>\n",
       "      <td>6.93</td>\n",
       "      <td>75.20</td>\n",
       "      <td>73</td>\n",
       "      <td>0</td>\n",
       "      <td>1601166239</td>\n",
       "      <td>31.35,27.25</td>\n",
       "    </tr>\n",
       "    <tr>\n",
       "      <th>2</th>\n",
       "      <td>ibis Riyadh Olaya Street</td>\n",
       "      <td>25.0</td>\n",
       "      <td>47.0</td>\n",
       "      <td>riyadh</td>\n",
       "      <td>25.0</td>\n",
       "      <td>47.0</td>\n",
       "      <td>SA</td>\n",
       "      <td>2.24</td>\n",
       "      <td>78.80</td>\n",
       "      <td>29</td>\n",
       "      <td>0</td>\n",
       "      <td>1601166231</td>\n",
       "      <td>24.69,46.72</td>\n",
       "    </tr>\n",
       "    <tr>\n",
       "      <th>3</th>\n",
       "      <td>Desert Gat</td>\n",
       "      <td>32.0</td>\n",
       "      <td>35.0</td>\n",
       "      <td>gat</td>\n",
       "      <td>32.0</td>\n",
       "      <td>35.0</td>\n",
       "      <td>IL</td>\n",
       "      <td>5.73</td>\n",
       "      <td>75.99</td>\n",
       "      <td>74</td>\n",
       "      <td>0</td>\n",
       "      <td>1601166242</td>\n",
       "      <td>31.61,34.76</td>\n",
       "    </tr>\n",
       "    <tr>\n",
       "      <th>4</th>\n",
       "      <td>Raoum Inn Hotel</td>\n",
       "      <td>30.0</td>\n",
       "      <td>40.0</td>\n",
       "      <td>sakakah</td>\n",
       "      <td>30.0</td>\n",
       "      <td>40.0</td>\n",
       "      <td>SA</td>\n",
       "      <td>9.17</td>\n",
       "      <td>77.00</td>\n",
       "      <td>27</td>\n",
       "      <td>0</td>\n",
       "      <td>1601166264</td>\n",
       "      <td>29.97,40.21</td>\n",
       "    </tr>\n",
       "    <tr>\n",
       "      <th>5</th>\n",
       "      <td>Cleveland Visitor Villas Motel</td>\n",
       "      <td>-28.0</td>\n",
       "      <td>153.0</td>\n",
       "      <td>victoria point</td>\n",
       "      <td>-28.0</td>\n",
       "      <td>153.0</td>\n",
       "      <td>AU</td>\n",
       "      <td>1.99</td>\n",
       "      <td>71.01</td>\n",
       "      <td>26</td>\n",
       "      <td>0</td>\n",
       "      <td>1601166267</td>\n",
       "      <td>-27.58,153.3</td>\n",
       "    </tr>\n",
       "    <tr>\n",
       "      <th>6</th>\n",
       "      <td>Chawani Bungalow</td>\n",
       "      <td>-16.0</td>\n",
       "      <td>35.0</td>\n",
       "      <td>thyolo</td>\n",
       "      <td>-16.0</td>\n",
       "      <td>35.0</td>\n",
       "      <td>MW</td>\n",
       "      <td>7.76</td>\n",
       "      <td>72.03</td>\n",
       "      <td>33</td>\n",
       "      <td>0</td>\n",
       "      <td>1601166282</td>\n",
       "      <td>-16.07,35.14</td>\n",
       "    </tr>\n",
       "    <tr>\n",
       "      <th>7</th>\n",
       "      <td>NOVOLESTE Hotel</td>\n",
       "      <td>-10.0</td>\n",
       "      <td>-40.0</td>\n",
       "      <td>senhor do bonfim</td>\n",
       "      <td>-10.0</td>\n",
       "      <td>-40.0</td>\n",
       "      <td>BR</td>\n",
       "      <td>9.69</td>\n",
       "      <td>72.72</td>\n",
       "      <td>57</td>\n",
       "      <td>0</td>\n",
       "      <td>1601166285</td>\n",
       "      <td>-10.46,-40.19</td>\n",
       "    </tr>\n",
       "    <tr>\n",
       "      <th>8</th>\n",
       "      <td>Pousada Villa das Pedras - Hotel in Pirenópoli...</td>\n",
       "      <td>-16.0</td>\n",
       "      <td>-49.0</td>\n",
       "      <td>pirenopolis</td>\n",
       "      <td>-16.0</td>\n",
       "      <td>-49.0</td>\n",
       "      <td>BR</td>\n",
       "      <td>3.80</td>\n",
       "      <td>71.60</td>\n",
       "      <td>43</td>\n",
       "      <td>0</td>\n",
       "      <td>1601166295</td>\n",
       "      <td>-15.85,-48.96</td>\n",
       "    </tr>\n",
       "    <tr>\n",
       "      <th>9</th>\n",
       "      <td>Mövenpick Hotel Qassim</td>\n",
       "      <td>26.0</td>\n",
       "      <td>44.0</td>\n",
       "      <td>buraydah</td>\n",
       "      <td>26.0</td>\n",
       "      <td>44.0</td>\n",
       "      <td>SA</td>\n",
       "      <td>5.82</td>\n",
       "      <td>78.80</td>\n",
       "      <td>29</td>\n",
       "      <td>0</td>\n",
       "      <td>1601166057</td>\n",
       "      <td>26.33,43.98</td>\n",
       "    </tr>\n",
       "    <tr>\n",
       "      <th>10</th>\n",
       "      <td>Payal Resorts</td>\n",
       "      <td>25.0</td>\n",
       "      <td>75.0</td>\n",
       "      <td>mandal</td>\n",
       "      <td>25.0</td>\n",
       "      <td>75.0</td>\n",
       "      <td>IN</td>\n",
       "      <td>5.23</td>\n",
       "      <td>71.28</td>\n",
       "      <td>78</td>\n",
       "      <td>0</td>\n",
       "      <td>1601166304</td>\n",
       "      <td>25.45,74.57</td>\n",
       "    </tr>\n",
       "    <tr>\n",
       "      <th>11</th>\n",
       "      <td>قاعدة فيقا فيقا</td>\n",
       "      <td>33.0</td>\n",
       "      <td>21.0</td>\n",
       "      <td>tukrah</td>\n",
       "      <td>33.0</td>\n",
       "      <td>21.0</td>\n",
       "      <td>LY</td>\n",
       "      <td>8.90</td>\n",
       "      <td>74.37</td>\n",
       "      <td>72</td>\n",
       "      <td>0</td>\n",
       "      <td>1601166332</td>\n",
       "      <td>32.53,20.58</td>\n",
       "    </tr>\n",
       "  </tbody>\n",
       "</table>\n",
       "</div>"
      ],
      "text/plain": [
       "                                           Hotel Name  Hotel Latitude  \\\n",
       "0                              Hotel Royal em Amambai           -23.0   \n",
       "1                                 Jewel Matrouh Hotel            31.0   \n",
       "2                            ibis Riyadh Olaya Street            25.0   \n",
       "3                                          Desert Gat            32.0   \n",
       "4                                     Raoum Inn Hotel            30.0   \n",
       "5                      Cleveland Visitor Villas Motel           -28.0   \n",
       "6                                    Chawani Bungalow           -16.0   \n",
       "7                                     NOVOLESTE Hotel           -10.0   \n",
       "8   Pousada Villa das Pedras - Hotel in Pirenópoli...           -16.0   \n",
       "9                              Mövenpick Hotel Qassim            26.0   \n",
       "10                                      Payal Resorts            25.0   \n",
       "11                                    قاعدة فيقا فيقا            33.0   \n",
       "\n",
       "    Hotel Longitude              City  Latitude  Longitude Country  \\\n",
       "0             -55.0           amambai     -23.0      -55.0      BR   \n",
       "1              27.0      marsa matruh      31.0       27.0      EG   \n",
       "2              47.0            riyadh      25.0       47.0      SA   \n",
       "3              35.0               gat      32.0       35.0      IL   \n",
       "4              40.0           sakakah      30.0       40.0      SA   \n",
       "5             153.0    victoria point     -28.0      153.0      AU   \n",
       "6              35.0            thyolo     -16.0       35.0      MW   \n",
       "7             -40.0  senhor do bonfim     -10.0      -40.0      BR   \n",
       "8             -49.0       pirenopolis     -16.0      -49.0      BR   \n",
       "9              44.0          buraydah      26.0       44.0      SA   \n",
       "10             75.0            mandal      25.0       75.0      IN   \n",
       "11             21.0            tukrah      33.0       21.0      LY   \n",
       "\n",
       "    Wind Speed  Max Temp  Humidity  Cloudiness        Date   City_Lat_Lng  \n",
       "0         5.64     79.83        35           0  1601166214   -23.1,-55.23  \n",
       "1         6.93     75.20        73           0  1601166239    31.35,27.25  \n",
       "2         2.24     78.80        29           0  1601166231    24.69,46.72  \n",
       "3         5.73     75.99        74           0  1601166242    31.61,34.76  \n",
       "4         9.17     77.00        27           0  1601166264    29.97,40.21  \n",
       "5         1.99     71.01        26           0  1601166267   -27.58,153.3  \n",
       "6         7.76     72.03        33           0  1601166282   -16.07,35.14  \n",
       "7         9.69     72.72        57           0  1601166285  -10.46,-40.19  \n",
       "8         3.80     71.60        43           0  1601166295  -15.85,-48.96  \n",
       "9         5.82     78.80        29           0  1601166057    26.33,43.98  \n",
       "10        5.23     71.28        78           0  1601166304    25.45,74.57  \n",
       "11        8.90     74.37        72           0  1601166332    32.53,20.58  "
      ]
     },
     "execution_count": 11,
     "metadata": {},
     "output_type": "execute_result"
    }
   ],
   "source": [
    "# Data prep for combined dataframe\n",
    "\n",
    "# Round off lat-longs for consistency\n",
    "df = df.round({\"Latitude\": 0, \"Longitude\": 0})\n",
    "hotel_df = hotel_df.round({\"Hotel Latitude\": 0, \"Hotel Longitude\": 0})\n",
    "\n",
    "# Add hotel data to main city dataframe\n",
    "city_hotel_df = pd.merge(hotel_df, df, how=\"left\", left_on=[\"Hotel Latitude\", \"Hotel Longitude\"], right_on=[\"Latitude\", \"Longitude\"])\n",
    "city_hotel_df"
   ]
  },
  {
   "cell_type": "code",
   "execution_count": 12,
   "metadata": {},
   "outputs": [
    {
     "data": {
      "text/html": [
       "<div>\n",
       "<style scoped>\n",
       "    .dataframe tbody tr th:only-of-type {\n",
       "        vertical-align: middle;\n",
       "    }\n",
       "\n",
       "    .dataframe tbody tr th {\n",
       "        vertical-align: top;\n",
       "    }\n",
       "\n",
       "    .dataframe thead th {\n",
       "        text-align: right;\n",
       "    }\n",
       "</style>\n",
       "<table border=\"1\" class=\"dataframe\">\n",
       "  <thead>\n",
       "    <tr style=\"text-align: right;\">\n",
       "      <th></th>\n",
       "      <th>City</th>\n",
       "      <th>Country</th>\n",
       "      <th>Hotel Name</th>\n",
       "      <th>Hotel Latitude</th>\n",
       "      <th>Hotel Longitude</th>\n",
       "      <th>Humidity</th>\n",
       "    </tr>\n",
       "  </thead>\n",
       "  <tbody>\n",
       "    <tr>\n",
       "      <th>0</th>\n",
       "      <td>amambai</td>\n",
       "      <td>BR</td>\n",
       "      <td>Hotel Royal em Amambai</td>\n",
       "      <td>-23.0</td>\n",
       "      <td>-55.0</td>\n",
       "      <td>35</td>\n",
       "    </tr>\n",
       "    <tr>\n",
       "      <th>1</th>\n",
       "      <td>marsa matruh</td>\n",
       "      <td>EG</td>\n",
       "      <td>Jewel Matrouh Hotel</td>\n",
       "      <td>31.0</td>\n",
       "      <td>27.0</td>\n",
       "      <td>73</td>\n",
       "    </tr>\n",
       "    <tr>\n",
       "      <th>2</th>\n",
       "      <td>riyadh</td>\n",
       "      <td>SA</td>\n",
       "      <td>ibis Riyadh Olaya Street</td>\n",
       "      <td>25.0</td>\n",
       "      <td>47.0</td>\n",
       "      <td>29</td>\n",
       "    </tr>\n",
       "    <tr>\n",
       "      <th>3</th>\n",
       "      <td>gat</td>\n",
       "      <td>IL</td>\n",
       "      <td>Desert Gat</td>\n",
       "      <td>32.0</td>\n",
       "      <td>35.0</td>\n",
       "      <td>74</td>\n",
       "    </tr>\n",
       "    <tr>\n",
       "      <th>4</th>\n",
       "      <td>sakakah</td>\n",
       "      <td>SA</td>\n",
       "      <td>Raoum Inn Hotel</td>\n",
       "      <td>30.0</td>\n",
       "      <td>40.0</td>\n",
       "      <td>27</td>\n",
       "    </tr>\n",
       "    <tr>\n",
       "      <th>5</th>\n",
       "      <td>victoria point</td>\n",
       "      <td>AU</td>\n",
       "      <td>Cleveland Visitor Villas Motel</td>\n",
       "      <td>-28.0</td>\n",
       "      <td>153.0</td>\n",
       "      <td>26</td>\n",
       "    </tr>\n",
       "    <tr>\n",
       "      <th>6</th>\n",
       "      <td>thyolo</td>\n",
       "      <td>MW</td>\n",
       "      <td>Chawani Bungalow</td>\n",
       "      <td>-16.0</td>\n",
       "      <td>35.0</td>\n",
       "      <td>33</td>\n",
       "    </tr>\n",
       "    <tr>\n",
       "      <th>7</th>\n",
       "      <td>senhor do bonfim</td>\n",
       "      <td>BR</td>\n",
       "      <td>NOVOLESTE Hotel</td>\n",
       "      <td>-10.0</td>\n",
       "      <td>-40.0</td>\n",
       "      <td>57</td>\n",
       "    </tr>\n",
       "    <tr>\n",
       "      <th>8</th>\n",
       "      <td>pirenopolis</td>\n",
       "      <td>BR</td>\n",
       "      <td>Pousada Villa das Pedras - Hotel in Pirenópoli...</td>\n",
       "      <td>-16.0</td>\n",
       "      <td>-49.0</td>\n",
       "      <td>43</td>\n",
       "    </tr>\n",
       "    <tr>\n",
       "      <th>9</th>\n",
       "      <td>buraydah</td>\n",
       "      <td>SA</td>\n",
       "      <td>Mövenpick Hotel Qassim</td>\n",
       "      <td>26.0</td>\n",
       "      <td>44.0</td>\n",
       "      <td>29</td>\n",
       "    </tr>\n",
       "    <tr>\n",
       "      <th>10</th>\n",
       "      <td>mandal</td>\n",
       "      <td>IN</td>\n",
       "      <td>Payal Resorts</td>\n",
       "      <td>25.0</td>\n",
       "      <td>75.0</td>\n",
       "      <td>78</td>\n",
       "    </tr>\n",
       "    <tr>\n",
       "      <th>11</th>\n",
       "      <td>tukrah</td>\n",
       "      <td>LY</td>\n",
       "      <td>قاعدة فيقا فيقا</td>\n",
       "      <td>33.0</td>\n",
       "      <td>21.0</td>\n",
       "      <td>72</td>\n",
       "    </tr>\n",
       "  </tbody>\n",
       "</table>\n",
       "</div>"
      ],
      "text/plain": [
       "                City Country  \\\n",
       "0            amambai      BR   \n",
       "1       marsa matruh      EG   \n",
       "2             riyadh      SA   \n",
       "3                gat      IL   \n",
       "4            sakakah      SA   \n",
       "5     victoria point      AU   \n",
       "6             thyolo      MW   \n",
       "7   senhor do bonfim      BR   \n",
       "8        pirenopolis      BR   \n",
       "9           buraydah      SA   \n",
       "10            mandal      IN   \n",
       "11            tukrah      LY   \n",
       "\n",
       "                                           Hotel Name  Hotel Latitude  \\\n",
       "0                              Hotel Royal em Amambai           -23.0   \n",
       "1                                 Jewel Matrouh Hotel            31.0   \n",
       "2                            ibis Riyadh Olaya Street            25.0   \n",
       "3                                          Desert Gat            32.0   \n",
       "4                                     Raoum Inn Hotel            30.0   \n",
       "5                      Cleveland Visitor Villas Motel           -28.0   \n",
       "6                                    Chawani Bungalow           -16.0   \n",
       "7                                     NOVOLESTE Hotel           -10.0   \n",
       "8   Pousada Villa das Pedras - Hotel in Pirenópoli...           -16.0   \n",
       "9                              Mövenpick Hotel Qassim            26.0   \n",
       "10                                      Payal Resorts            25.0   \n",
       "11                                    قاعدة فيقا فيقا            33.0   \n",
       "\n",
       "    Hotel Longitude  Humidity  \n",
       "0             -55.0        35  \n",
       "1              27.0        73  \n",
       "2              47.0        29  \n",
       "3              35.0        74  \n",
       "4              40.0        27  \n",
       "5             153.0        26  \n",
       "6              35.0        33  \n",
       "7             -40.0        57  \n",
       "8             -49.0        43  \n",
       "9              44.0        29  \n",
       "10             75.0        78  \n",
       "11             21.0        72  "
      ]
     },
     "execution_count": 12,
     "metadata": {},
     "output_type": "execute_result"
    }
   ],
   "source": [
    "# Clean dataframe by choosing only data relevant for plotting\n",
    "\n",
    "final_df = city_hotel_df[[\"City\", \"Country\", \"Hotel Name\", \"Hotel Latitude\", \"Hotel Longitude\", \"Humidity\"]]\n",
    "final_df"
   ]
  },
  {
   "cell_type": "code",
   "execution_count": 14,
   "metadata": {},
   "outputs": [
    {
     "data": {
      "application/vnd.plotly.v1+json": {
       "config": {
        "plotlyServerURL": "https://plot.ly"
       },
       "data": [
        {
         "customdata": [
          [
           "amambai",
           "BR",
           "Hotel Royal em Amambai",
           -23,
           -55,
           35
          ],
          [
           "marsa matruh",
           "EG",
           "Jewel Matrouh Hotel",
           31,
           27,
           73
          ],
          [
           "riyadh",
           "SA",
           "ibis Riyadh Olaya Street",
           25,
           47,
           29
          ],
          [
           "gat",
           "IL",
           "Desert Gat",
           32,
           35,
           74
          ],
          [
           "sakakah",
           "SA",
           "Raoum Inn Hotel",
           30,
           40,
           27
          ],
          [
           "victoria point",
           "AU",
           "Cleveland Visitor Villas Motel",
           -28,
           153,
           26
          ],
          [
           "thyolo",
           "MW",
           "Chawani Bungalow",
           -16,
           35,
           33
          ],
          [
           "senhor do bonfim",
           "BR",
           "NOVOLESTE Hotel",
           -10,
           -40,
           57
          ],
          [
           "pirenopolis",
           "BR",
           "Pousada Villa das Pedras - Hotel in Pirenópolis, Goiás",
           -16,
           -49,
           43
          ],
          [
           "buraydah",
           "SA",
           "Mövenpick Hotel Qassim",
           26,
           44,
           29
          ],
          [
           "mandal",
           "IN",
           "Payal Resorts",
           25,
           75,
           78
          ],
          [
           "tukrah",
           "LY",
           "قاعدة فيقا فيقا",
           33,
           21,
           72
          ]
         ],
         "hovertemplate": "Hotel Latitude=%{customdata[3]}<br>Hotel Longitude=%{customdata[4]}<br>City=%{customdata[0]}<br>Country=%{customdata[1]}<br>Hotel Name=%{customdata[2]}<br>Humidity=%{marker.color}<extra></extra>",
         "lat": [
          -23,
          31,
          25,
          32,
          30,
          -28,
          -16,
          -10,
          -16,
          26,
          25,
          33
         ],
         "legendgroup": "",
         "lon": [
          -55,
          27,
          47,
          35,
          40,
          153,
          35,
          -40,
          -49,
          44,
          75,
          21
         ],
         "marker": {
          "color": [
           35,
           73,
           29,
           74,
           27,
           26,
           33,
           57,
           43,
           29,
           78,
           72
          ],
          "coloraxis": "coloraxis"
         },
         "mode": "markers",
         "name": "",
         "showlegend": false,
         "subplot": "mapbox",
         "type": "scattermapbox"
        }
       ],
       "layout": {
        "autosize": true,
        "coloraxis": {
         "colorbar": {
          "title": {
           "text": "Humidity"
          }
         },
         "colorscale": [
          [
           0,
           "#0d0887"
          ],
          [
           0.1111111111111111,
           "#46039f"
          ],
          [
           0.2222222222222222,
           "#7201a8"
          ],
          [
           0.3333333333333333,
           "#9c179e"
          ],
          [
           0.4444444444444444,
           "#bd3786"
          ],
          [
           0.5555555555555556,
           "#d8576b"
          ],
          [
           0.6666666666666666,
           "#ed7953"
          ],
          [
           0.7777777777777778,
           "#fb9f3a"
          ],
          [
           0.8888888888888888,
           "#fdca26"
          ],
          [
           1,
           "#f0f921"
          ]
         ]
        },
        "legend": {
         "tracegroupgap": 0
        },
        "mapbox": {
         "accesstoken": "pk.eyJ1IjoiaWNvZGUxMyIsImEiOiJja2Zra2lva2owdHo0MnptanV3bnNlZGprIn0.zfeW_ah_9YVqEk3UpQE_6Q",
         "bearing": 0,
         "center": {
          "lat": 23.145268154148937,
          "lon": 17.23978589572721
         },
         "domain": {
          "x": [
           0,
           1
          ],
          "y": [
           0,
           1
          ]
         },
         "pitch": 0,
         "zoom": 0.36576938776159357
        },
        "margin": {
         "t": 60
        },
        "template": {
         "data": {
          "bar": [
           {
            "error_x": {
             "color": "#2a3f5f"
            },
            "error_y": {
             "color": "#2a3f5f"
            },
            "marker": {
             "line": {
              "color": "#E5ECF6",
              "width": 0.5
             }
            },
            "type": "bar"
           }
          ],
          "barpolar": [
           {
            "marker": {
             "line": {
              "color": "#E5ECF6",
              "width": 0.5
             }
            },
            "type": "barpolar"
           }
          ],
          "carpet": [
           {
            "aaxis": {
             "endlinecolor": "#2a3f5f",
             "gridcolor": "white",
             "linecolor": "white",
             "minorgridcolor": "white",
             "startlinecolor": "#2a3f5f"
            },
            "baxis": {
             "endlinecolor": "#2a3f5f",
             "gridcolor": "white",
             "linecolor": "white",
             "minorgridcolor": "white",
             "startlinecolor": "#2a3f5f"
            },
            "type": "carpet"
           }
          ],
          "choropleth": [
           {
            "colorbar": {
             "outlinewidth": 0,
             "ticks": ""
            },
            "type": "choropleth"
           }
          ],
          "contour": [
           {
            "colorbar": {
             "outlinewidth": 0,
             "ticks": ""
            },
            "colorscale": [
             [
              0,
              "#0d0887"
             ],
             [
              0.1111111111111111,
              "#46039f"
             ],
             [
              0.2222222222222222,
              "#7201a8"
             ],
             [
              0.3333333333333333,
              "#9c179e"
             ],
             [
              0.4444444444444444,
              "#bd3786"
             ],
             [
              0.5555555555555556,
              "#d8576b"
             ],
             [
              0.6666666666666666,
              "#ed7953"
             ],
             [
              0.7777777777777778,
              "#fb9f3a"
             ],
             [
              0.8888888888888888,
              "#fdca26"
             ],
             [
              1,
              "#f0f921"
             ]
            ],
            "type": "contour"
           }
          ],
          "contourcarpet": [
           {
            "colorbar": {
             "outlinewidth": 0,
             "ticks": ""
            },
            "type": "contourcarpet"
           }
          ],
          "heatmap": [
           {
            "colorbar": {
             "outlinewidth": 0,
             "ticks": ""
            },
            "colorscale": [
             [
              0,
              "#0d0887"
             ],
             [
              0.1111111111111111,
              "#46039f"
             ],
             [
              0.2222222222222222,
              "#7201a8"
             ],
             [
              0.3333333333333333,
              "#9c179e"
             ],
             [
              0.4444444444444444,
              "#bd3786"
             ],
             [
              0.5555555555555556,
              "#d8576b"
             ],
             [
              0.6666666666666666,
              "#ed7953"
             ],
             [
              0.7777777777777778,
              "#fb9f3a"
             ],
             [
              0.8888888888888888,
              "#fdca26"
             ],
             [
              1,
              "#f0f921"
             ]
            ],
            "type": "heatmap"
           }
          ],
          "heatmapgl": [
           {
            "colorbar": {
             "outlinewidth": 0,
             "ticks": ""
            },
            "colorscale": [
             [
              0,
              "#0d0887"
             ],
             [
              0.1111111111111111,
              "#46039f"
             ],
             [
              0.2222222222222222,
              "#7201a8"
             ],
             [
              0.3333333333333333,
              "#9c179e"
             ],
             [
              0.4444444444444444,
              "#bd3786"
             ],
             [
              0.5555555555555556,
              "#d8576b"
             ],
             [
              0.6666666666666666,
              "#ed7953"
             ],
             [
              0.7777777777777778,
              "#fb9f3a"
             ],
             [
              0.8888888888888888,
              "#fdca26"
             ],
             [
              1,
              "#f0f921"
             ]
            ],
            "type": "heatmapgl"
           }
          ],
          "histogram": [
           {
            "marker": {
             "colorbar": {
              "outlinewidth": 0,
              "ticks": ""
             }
            },
            "type": "histogram"
           }
          ],
          "histogram2d": [
           {
            "colorbar": {
             "outlinewidth": 0,
             "ticks": ""
            },
            "colorscale": [
             [
              0,
              "#0d0887"
             ],
             [
              0.1111111111111111,
              "#46039f"
             ],
             [
              0.2222222222222222,
              "#7201a8"
             ],
             [
              0.3333333333333333,
              "#9c179e"
             ],
             [
              0.4444444444444444,
              "#bd3786"
             ],
             [
              0.5555555555555556,
              "#d8576b"
             ],
             [
              0.6666666666666666,
              "#ed7953"
             ],
             [
              0.7777777777777778,
              "#fb9f3a"
             ],
             [
              0.8888888888888888,
              "#fdca26"
             ],
             [
              1,
              "#f0f921"
             ]
            ],
            "type": "histogram2d"
           }
          ],
          "histogram2dcontour": [
           {
            "colorbar": {
             "outlinewidth": 0,
             "ticks": ""
            },
            "colorscale": [
             [
              0,
              "#0d0887"
             ],
             [
              0.1111111111111111,
              "#46039f"
             ],
             [
              0.2222222222222222,
              "#7201a8"
             ],
             [
              0.3333333333333333,
              "#9c179e"
             ],
             [
              0.4444444444444444,
              "#bd3786"
             ],
             [
              0.5555555555555556,
              "#d8576b"
             ],
             [
              0.6666666666666666,
              "#ed7953"
             ],
             [
              0.7777777777777778,
              "#fb9f3a"
             ],
             [
              0.8888888888888888,
              "#fdca26"
             ],
             [
              1,
              "#f0f921"
             ]
            ],
            "type": "histogram2dcontour"
           }
          ],
          "mesh3d": [
           {
            "colorbar": {
             "outlinewidth": 0,
             "ticks": ""
            },
            "type": "mesh3d"
           }
          ],
          "parcoords": [
           {
            "line": {
             "colorbar": {
              "outlinewidth": 0,
              "ticks": ""
             }
            },
            "type": "parcoords"
           }
          ],
          "pie": [
           {
            "automargin": true,
            "type": "pie"
           }
          ],
          "scatter": [
           {
            "marker": {
             "colorbar": {
              "outlinewidth": 0,
              "ticks": ""
             }
            },
            "type": "scatter"
           }
          ],
          "scatter3d": [
           {
            "line": {
             "colorbar": {
              "outlinewidth": 0,
              "ticks": ""
             }
            },
            "marker": {
             "colorbar": {
              "outlinewidth": 0,
              "ticks": ""
             }
            },
            "type": "scatter3d"
           }
          ],
          "scattercarpet": [
           {
            "marker": {
             "colorbar": {
              "outlinewidth": 0,
              "ticks": ""
             }
            },
            "type": "scattercarpet"
           }
          ],
          "scattergeo": [
           {
            "marker": {
             "colorbar": {
              "outlinewidth": 0,
              "ticks": ""
             }
            },
            "type": "scattergeo"
           }
          ],
          "scattergl": [
           {
            "marker": {
             "colorbar": {
              "outlinewidth": 0,
              "ticks": ""
             }
            },
            "type": "scattergl"
           }
          ],
          "scattermapbox": [
           {
            "marker": {
             "colorbar": {
              "outlinewidth": 0,
              "ticks": ""
             }
            },
            "type": "scattermapbox"
           }
          ],
          "scatterpolar": [
           {
            "marker": {
             "colorbar": {
              "outlinewidth": 0,
              "ticks": ""
             }
            },
            "type": "scatterpolar"
           }
          ],
          "scatterpolargl": [
           {
            "marker": {
             "colorbar": {
              "outlinewidth": 0,
              "ticks": ""
             }
            },
            "type": "scatterpolargl"
           }
          ],
          "scatterternary": [
           {
            "marker": {
             "colorbar": {
              "outlinewidth": 0,
              "ticks": ""
             }
            },
            "type": "scatterternary"
           }
          ],
          "surface": [
           {
            "colorbar": {
             "outlinewidth": 0,
             "ticks": ""
            },
            "colorscale": [
             [
              0,
              "#0d0887"
             ],
             [
              0.1111111111111111,
              "#46039f"
             ],
             [
              0.2222222222222222,
              "#7201a8"
             ],
             [
              0.3333333333333333,
              "#9c179e"
             ],
             [
              0.4444444444444444,
              "#bd3786"
             ],
             [
              0.5555555555555556,
              "#d8576b"
             ],
             [
              0.6666666666666666,
              "#ed7953"
             ],
             [
              0.7777777777777778,
              "#fb9f3a"
             ],
             [
              0.8888888888888888,
              "#fdca26"
             ],
             [
              1,
              "#f0f921"
             ]
            ],
            "type": "surface"
           }
          ],
          "table": [
           {
            "cells": {
             "fill": {
              "color": "#EBF0F8"
             },
             "line": {
              "color": "white"
             }
            },
            "header": {
             "fill": {
              "color": "#C8D4E3"
             },
             "line": {
              "color": "white"
             }
            },
            "type": "table"
           }
          ]
         },
         "layout": {
          "annotationdefaults": {
           "arrowcolor": "#2a3f5f",
           "arrowhead": 0,
           "arrowwidth": 1
          },
          "coloraxis": {
           "colorbar": {
            "outlinewidth": 0,
            "ticks": ""
           }
          },
          "colorscale": {
           "diverging": [
            [
             0,
             "#8e0152"
            ],
            [
             0.1,
             "#c51b7d"
            ],
            [
             0.2,
             "#de77ae"
            ],
            [
             0.3,
             "#f1b6da"
            ],
            [
             0.4,
             "#fde0ef"
            ],
            [
             0.5,
             "#f7f7f7"
            ],
            [
             0.6,
             "#e6f5d0"
            ],
            [
             0.7,
             "#b8e186"
            ],
            [
             0.8,
             "#7fbc41"
            ],
            [
             0.9,
             "#4d9221"
            ],
            [
             1,
             "#276419"
            ]
           ],
           "sequential": [
            [
             0,
             "#0d0887"
            ],
            [
             0.1111111111111111,
             "#46039f"
            ],
            [
             0.2222222222222222,
             "#7201a8"
            ],
            [
             0.3333333333333333,
             "#9c179e"
            ],
            [
             0.4444444444444444,
             "#bd3786"
            ],
            [
             0.5555555555555556,
             "#d8576b"
            ],
            [
             0.6666666666666666,
             "#ed7953"
            ],
            [
             0.7777777777777778,
             "#fb9f3a"
            ],
            [
             0.8888888888888888,
             "#fdca26"
            ],
            [
             1,
             "#f0f921"
            ]
           ],
           "sequentialminus": [
            [
             0,
             "#0d0887"
            ],
            [
             0.1111111111111111,
             "#46039f"
            ],
            [
             0.2222222222222222,
             "#7201a8"
            ],
            [
             0.3333333333333333,
             "#9c179e"
            ],
            [
             0.4444444444444444,
             "#bd3786"
            ],
            [
             0.5555555555555556,
             "#d8576b"
            ],
            [
             0.6666666666666666,
             "#ed7953"
            ],
            [
             0.7777777777777778,
             "#fb9f3a"
            ],
            [
             0.8888888888888888,
             "#fdca26"
            ],
            [
             1,
             "#f0f921"
            ]
           ]
          },
          "colorway": [
           "#636efa",
           "#EF553B",
           "#00cc96",
           "#ab63fa",
           "#FFA15A",
           "#19d3f3",
           "#FF6692",
           "#B6E880",
           "#FF97FF",
           "#FECB52"
          ],
          "font": {
           "color": "#2a3f5f"
          },
          "geo": {
           "bgcolor": "white",
           "lakecolor": "white",
           "landcolor": "#E5ECF6",
           "showlakes": true,
           "showland": true,
           "subunitcolor": "white"
          },
          "hoverlabel": {
           "align": "left"
          },
          "hovermode": "closest",
          "mapbox": {
           "style": "light"
          },
          "paper_bgcolor": "white",
          "plot_bgcolor": "#E5ECF6",
          "polar": {
           "angularaxis": {
            "gridcolor": "white",
            "linecolor": "white",
            "ticks": ""
           },
           "bgcolor": "#E5ECF6",
           "radialaxis": {
            "gridcolor": "white",
            "linecolor": "white",
            "ticks": ""
           }
          },
          "scene": {
           "xaxis": {
            "backgroundcolor": "#E5ECF6",
            "gridcolor": "white",
            "gridwidth": 2,
            "linecolor": "white",
            "showbackground": true,
            "ticks": "",
            "zerolinecolor": "white"
           },
           "yaxis": {
            "backgroundcolor": "#E5ECF6",
            "gridcolor": "white",
            "gridwidth": 2,
            "linecolor": "white",
            "showbackground": true,
            "ticks": "",
            "zerolinecolor": "white"
           },
           "zaxis": {
            "backgroundcolor": "#E5ECF6",
            "gridcolor": "white",
            "gridwidth": 2,
            "linecolor": "white",
            "showbackground": true,
            "ticks": "",
            "zerolinecolor": "white"
           }
          },
          "shapedefaults": {
           "line": {
            "color": "#2a3f5f"
           }
          },
          "ternary": {
           "aaxis": {
            "gridcolor": "white",
            "linecolor": "white",
            "ticks": ""
           },
           "baxis": {
            "gridcolor": "white",
            "linecolor": "white",
            "ticks": ""
           },
           "bgcolor": "#E5ECF6",
           "caxis": {
            "gridcolor": "white",
            "linecolor": "white",
            "ticks": ""
           }
          },
          "title": {
           "x": 0.05
          },
          "xaxis": {
           "automargin": true,
           "gridcolor": "white",
           "linecolor": "white",
           "ticks": "",
           "title": {
            "standoff": 15
           },
           "zerolinecolor": "white",
           "zerolinewidth": 2
          },
          "yaxis": {
           "automargin": true,
           "gridcolor": "white",
           "linecolor": "white",
           "ticks": "",
           "title": {
            "standoff": 15
           },
           "zerolinecolor": "white",
           "zerolinewidth": 2
          }
         }
        }
       }
      },
      "image/png": "[encoded data removed]",
      "text/html": [
       "<div>                            <div id=\"a2f7447b-b8bf-4ec7-b5cf-a8ccab9940ce\" class=\"plotly-graph-div\" style=\"height:525px; width:100%;\"></div>            <script type=\"text/javascript\">                require([\"plotly\"], function(Plotly) {                    window.PLOTLYENV=window.PLOTLYENV || {};                                    if (document.getElementById(\"a2f7447b-b8bf-4ec7-b5cf-a8ccab9940ce\")) {                    Plotly.newPlot(                        \"a2f7447b-b8bf-4ec7-b5cf-a8ccab9940ce\",                        [{\"customdata\": [[\"amambai\", \"BR\", \"Hotel Royal em Amambai\", -23.0, -55.0, 35], [\"marsa matruh\", \"EG\", \"Jewel Matrouh Hotel\", 31.0, 27.0, 73], [\"riyadh\", \"SA\", \"ibis Riyadh Olaya Street\", 25.0, 47.0, 29], [\"gat\", \"IL\", \"Desert Gat\", 32.0, 35.0, 74], [\"sakakah\", \"SA\", \"Raoum Inn Hotel\", 30.0, 40.0, 27], [\"victoria point\", \"AU\", \"Cleveland Visitor Villas Motel\", -28.0, 153.0, 26], [\"thyolo\", \"MW\", \"Chawani Bungalow\", -16.0, 35.0, 33], [\"senhor do bonfim\", \"BR\", \"NOVOLESTE Hotel\", -10.0, -40.0, 57], [\"pirenopolis\", \"BR\", \"Pousada Villa das Pedras - Hotel in Piren\\u00f3polis, Goi\\u00e1s\", -16.0, -49.0, 43], [\"buraydah\", \"SA\", \"M\\u00f6venpick Hotel Qassim\", 26.0, 44.0, 29], [\"mandal\", \"IN\", \"Payal Resorts\", 25.0, 75.0, 78], [\"tukrah\", \"LY\", \"\\u0642\\u0627\\u0639\\u062f\\u0629 \\u0641\\u064a\\u0642\\u0627 \\u0641\\u064a\\u0642\\u0627\", 33.0, 21.0, 72]], \"hovertemplate\": \"Hotel Latitude=%{customdata[3]}<br>Hotel Longitude=%{customdata[4]}<br>City=%{customdata[0]}<br>Country=%{customdata[1]}<br>Hotel Name=%{customdata[2]}<br>Humidity=%{marker.color}<extra></extra>\", \"lat\": [-23.0, 31.0, 25.0, 32.0, 30.0, -28.0, -16.0, -10.0, -16.0, 26.0, 25.0, 33.0], \"legendgroup\": \"\", \"lon\": [-55.0, 27.0, 47.0, 35.0, 40.0, 153.0, 35.0, -40.0, -49.0, 44.0, 75.0, 21.0], \"marker\": {\"color\": [35, 73, 29, 74, 27, 26, 33, 57, 43, 29, 78, 72], \"coloraxis\": \"coloraxis\"}, \"mode\": \"markers\", \"name\": \"\", \"showlegend\": false, \"subplot\": \"mapbox\", \"type\": \"scattermapbox\"}],                        {\"coloraxis\": {\"colorbar\": {\"title\": {\"text\": \"Humidity\"}}, \"colorscale\": [[0.0, \"#0d0887\"], [0.1111111111111111, \"#46039f\"], [0.2222222222222222, \"#7201a8\"], [0.3333333333333333, \"#9c179e\"], [0.4444444444444444, \"#bd3786\"], [0.5555555555555556, \"#d8576b\"], [0.6666666666666666, \"#ed7953\"], [0.7777777777777778, \"#fb9f3a\"], [0.8888888888888888, \"#fdca26\"], [1.0, \"#f0f921\"]]}, \"legend\": {\"tracegroupgap\": 0}, \"mapbox\": {\"accesstoken\": \"pk.eyJ1IjoiaWNvZGUxMyIsImEiOiJja2Zra2lva2owdHo0MnptanV3bnNlZGprIn0.zfeW_ah_9YVqEk3UpQE_6Q\", \"center\": {\"lat\": 9.083333333333334, \"lon\": 27.75}, \"domain\": {\"x\": [0.0, 1.0], \"y\": [0.0, 1.0]}, \"zoom\": 8}, \"margin\": {\"t\": 60}, \"template\": {\"data\": {\"bar\": [{\"error_x\": {\"color\": \"#2a3f5f\"}, \"error_y\": {\"color\": \"#2a3f5f\"}, \"marker\": {\"line\": {\"color\": \"#E5ECF6\", \"width\": 0.5}}, \"type\": \"bar\"}], \"barpolar\": [{\"marker\": {\"line\": {\"color\": \"#E5ECF6\", \"width\": 0.5}}, \"type\": \"barpolar\"}], \"carpet\": [{\"aaxis\": {\"endlinecolor\": \"#2a3f5f\", \"gridcolor\": \"white\", \"linecolor\": \"white\", \"minorgridcolor\": \"white\", \"startlinecolor\": \"#2a3f5f\"}, \"baxis\": {\"endlinecolor\": \"#2a3f5f\", \"gridcolor\": \"white\", \"linecolor\": \"white\", \"minorgridcolor\": \"white\", \"startlinecolor\": \"#2a3f5f\"}, \"type\": \"carpet\"}], \"choropleth\": [{\"colorbar\": {\"outlinewidth\": 0, \"ticks\": \"\"}, \"type\": \"choropleth\"}], \"contour\": [{\"colorbar\": {\"outlinewidth\": 0, \"ticks\": \"\"}, \"colorscale\": [[0.0, \"#0d0887\"], [0.1111111111111111, \"#46039f\"], [0.2222222222222222, \"#7201a8\"], [0.3333333333333333, \"#9c179e\"], [0.4444444444444444, \"#bd3786\"], [0.5555555555555556, \"#d8576b\"], [0.6666666666666666, \"#ed7953\"], [0.7777777777777778, \"#fb9f3a\"], [0.8888888888888888, \"#fdca26\"], [1.0, \"#f0f921\"]], \"type\": \"contour\"}], \"contourcarpet\": [{\"colorbar\": {\"outlinewidth\": 0, \"ticks\": \"\"}, \"type\": \"contourcarpet\"}], \"heatmap\": [{\"colorbar\": {\"outlinewidth\": 0, \"ticks\": \"\"}, \"colorscale\": [[0.0, \"#0d0887\"], [0.1111111111111111, \"#46039f\"], [0.2222222222222222, \"#7201a8\"], [0.3333333333333333, \"#9c179e\"], [0.4444444444444444, \"#bd3786\"], [0.5555555555555556, \"#d8576b\"], [0.6666666666666666, \"#ed7953\"], [0.7777777777777778, \"#fb9f3a\"], [0.8888888888888888, \"#fdca26\"], [1.0, \"#f0f921\"]], \"type\": \"heatmap\"}], \"heatmapgl\": [{\"colorbar\": {\"outlinewidth\": 0, \"ticks\": \"\"}, \"colorscale\": [[0.0, \"#0d0887\"], [0.1111111111111111, \"#46039f\"], [0.2222222222222222, \"#7201a8\"], [0.3333333333333333, \"#9c179e\"], [0.4444444444444444, \"#bd3786\"], [0.5555555555555556, \"#d8576b\"], [0.6666666666666666, \"#ed7953\"], [0.7777777777777778, \"#fb9f3a\"], [0.8888888888888888, \"#fdca26\"], [1.0, \"#f0f921\"]], \"type\": \"heatmapgl\"}], \"histogram\": [{\"marker\": {\"colorbar\": {\"outlinewidth\": 0, \"ticks\": \"\"}}, \"type\": \"histogram\"}], \"histogram2d\": [{\"colorbar\": {\"outlinewidth\": 0, \"ticks\": \"\"}, \"colorscale\": [[0.0, \"#0d0887\"], [0.1111111111111111, \"#46039f\"], [0.2222222222222222, \"#7201a8\"], [0.3333333333333333, \"#9c179e\"], [0.4444444444444444, \"#bd3786\"], [0.5555555555555556, \"#d8576b\"], [0.6666666666666666, \"#ed7953\"], [0.7777777777777778, \"#fb9f3a\"], [0.8888888888888888, \"#fdca26\"], [1.0, \"#f0f921\"]], \"type\": \"histogram2d\"}], \"histogram2dcontour\": [{\"colorbar\": {\"outlinewidth\": 0, \"ticks\": \"\"}, \"colorscale\": [[0.0, \"#0d0887\"], [0.1111111111111111, \"#46039f\"], [0.2222222222222222, \"#7201a8\"], [0.3333333333333333, \"#9c179e\"], [0.4444444444444444, \"#bd3786\"], [0.5555555555555556, \"#d8576b\"], [0.6666666666666666, \"#ed7953\"], [0.7777777777777778, \"#fb9f3a\"], [0.8888888888888888, \"#fdca26\"], [1.0, \"#f0f921\"]], \"type\": \"histogram2dcontour\"}], \"mesh3d\": [{\"colorbar\": {\"outlinewidth\": 0, \"ticks\": \"\"}, \"type\": \"mesh3d\"}], \"parcoords\": [{\"line\": {\"colorbar\": {\"outlinewidth\": 0, \"ticks\": \"\"}}, \"type\": \"parcoords\"}], \"pie\": [{\"automargin\": true, \"type\": \"pie\"}], \"scatter\": [{\"marker\": {\"colorbar\": {\"outlinewidth\": 0, \"ticks\": \"\"}}, \"type\": \"scatter\"}], \"scatter3d\": [{\"line\": {\"colorbar\": {\"outlinewidth\": 0, \"ticks\": \"\"}}, \"marker\": {\"colorbar\": {\"outlinewidth\": 0, \"ticks\": \"\"}}, \"type\": \"scatter3d\"}], \"scattercarpet\": [{\"marker\": {\"colorbar\": {\"outlinewidth\": 0, \"ticks\": \"\"}}, \"type\": \"scattercarpet\"}], \"scattergeo\": [{\"marker\": {\"colorbar\": {\"outlinewidth\": 0, \"ticks\": \"\"}}, \"type\": \"scattergeo\"}], \"scattergl\": [{\"marker\": {\"colorbar\": {\"outlinewidth\": 0, \"ticks\": \"\"}}, \"type\": \"scattergl\"}], \"scattermapbox\": [{\"marker\": {\"colorbar\": {\"outlinewidth\": 0, \"ticks\": \"\"}}, \"type\": \"scattermapbox\"}], \"scatterpolar\": [{\"marker\": {\"colorbar\": {\"outlinewidth\": 0, \"ticks\": \"\"}}, \"type\": \"scatterpolar\"}], \"scatterpolargl\": [{\"marker\": {\"colorbar\": {\"outlinewidth\": 0, \"ticks\": \"\"}}, \"type\": \"scatterpolargl\"}], \"scatterternary\": [{\"marker\": {\"colorbar\": {\"outlinewidth\": 0, \"ticks\": \"\"}}, \"type\": \"scatterternary\"}], \"surface\": [{\"colorbar\": {\"outlinewidth\": 0, \"ticks\": \"\"}, \"colorscale\": [[0.0, \"#0d0887\"], [0.1111111111111111, \"#46039f\"], [0.2222222222222222, \"#7201a8\"], [0.3333333333333333, \"#9c179e\"], [0.4444444444444444, \"#bd3786\"], [0.5555555555555556, \"#d8576b\"], [0.6666666666666666, \"#ed7953\"], [0.7777777777777778, \"#fb9f3a\"], [0.8888888888888888, \"#fdca26\"], [1.0, \"#f0f921\"]], \"type\": \"surface\"}], \"table\": [{\"cells\": {\"fill\": {\"color\": \"#EBF0F8\"}, \"line\": {\"color\": \"white\"}}, \"header\": {\"fill\": {\"color\": \"#C8D4E3\"}, \"line\": {\"color\": \"white\"}}, \"type\": \"table\"}]}, \"layout\": {\"annotationdefaults\": {\"arrowcolor\": \"#2a3f5f\", \"arrowhead\": 0, \"arrowwidth\": 1}, \"coloraxis\": {\"colorbar\": {\"outlinewidth\": 0, \"ticks\": \"\"}}, \"colorscale\": {\"diverging\": [[0, \"#8e0152\"], [0.1, \"#c51b7d\"], [0.2, \"#de77ae\"], [0.3, \"#f1b6da\"], [0.4, \"#fde0ef\"], [0.5, \"#f7f7f7\"], [0.6, \"#e6f5d0\"], [0.7, \"#b8e186\"], [0.8, \"#7fbc41\"], [0.9, \"#4d9221\"], [1, \"#276419\"]], \"sequential\": [[0.0, \"#0d0887\"], [0.1111111111111111, \"#46039f\"], [0.2222222222222222, \"#7201a8\"], [0.3333333333333333, \"#9c179e\"], [0.4444444444444444, \"#bd3786\"], [0.5555555555555556, \"#d8576b\"], [0.6666666666666666, \"#ed7953\"], [0.7777777777777778, \"#fb9f3a\"], [0.8888888888888888, \"#fdca26\"], [1.0, \"#f0f921\"]], \"sequentialminus\": [[0.0, \"#0d0887\"], [0.1111111111111111, \"#46039f\"], [0.2222222222222222, \"#7201a8\"], [0.3333333333333333, \"#9c179e\"], [0.4444444444444444, \"#bd3786\"], [0.5555555555555556, \"#d8576b\"], [0.6666666666666666, \"#ed7953\"], [0.7777777777777778, \"#fb9f3a\"], [0.8888888888888888, \"#fdca26\"], [1.0, \"#f0f921\"]]}, \"colorway\": [\"#636efa\", \"#EF553B\", \"#00cc96\", \"#ab63fa\", \"#FFA15A\", \"#19d3f3\", \"#FF6692\", \"#B6E880\", \"#FF97FF\", \"#FECB52\"], \"font\": {\"color\": \"#2a3f5f\"}, \"geo\": {\"bgcolor\": \"white\", \"lakecolor\": \"white\", \"landcolor\": \"#E5ECF6\", \"showlakes\": true, \"showland\": true, \"subunitcolor\": \"white\"}, \"hoverlabel\": {\"align\": \"left\"}, \"hovermode\": \"closest\", \"mapbox\": {\"style\": \"light\"}, \"paper_bgcolor\": \"white\", \"plot_bgcolor\": \"#E5ECF6\", \"polar\": {\"angularaxis\": {\"gridcolor\": \"white\", \"linecolor\": \"white\", \"ticks\": \"\"}, \"bgcolor\": \"#E5ECF6\", \"radialaxis\": {\"gridcolor\": \"white\", \"linecolor\": \"white\", \"ticks\": \"\"}}, \"scene\": {\"xaxis\": {\"backgroundcolor\": \"#E5ECF6\", \"gridcolor\": \"white\", \"gridwidth\": 2, \"linecolor\": \"white\", \"showbackground\": true, \"ticks\": \"\", \"zerolinecolor\": \"white\"}, \"yaxis\": {\"backgroundcolor\": \"#E5ECF6\", \"gridcolor\": \"white\", \"gridwidth\": 2, \"linecolor\": \"white\", \"showbackground\": true, \"ticks\": \"\", \"zerolinecolor\": \"white\"}, \"zaxis\": {\"backgroundcolor\": \"#E5ECF6\", \"gridcolor\": \"white\", \"gridwidth\": 2, \"linecolor\": \"white\", \"showbackground\": true, \"ticks\": \"\", \"zerolinecolor\": \"white\"}}, \"shapedefaults\": {\"line\": {\"color\": \"#2a3f5f\"}}, \"ternary\": {\"aaxis\": {\"gridcolor\": \"white\", \"linecolor\": \"white\", \"ticks\": \"\"}, \"baxis\": {\"gridcolor\": \"white\", \"linecolor\": \"white\", \"ticks\": \"\"}, \"bgcolor\": \"#E5ECF6\", \"caxis\": {\"gridcolor\": \"white\", \"linecolor\": \"white\", \"ticks\": \"\"}}, \"title\": {\"x\": 0.05}, \"xaxis\": {\"automargin\": true, \"gridcolor\": \"white\", \"linecolor\": \"white\", \"ticks\": \"\", \"title\": {\"standoff\": 15}, \"zerolinecolor\": \"white\", \"zerolinewidth\": 2}, \"yaxis\": {\"automargin\": true, \"gridcolor\": \"white\", \"linecolor\": \"white\", \"ticks\": \"\", \"title\": {\"standoff\": 15}, \"zerolinecolor\": \"white\", \"zerolinewidth\": 2}}}},                        {\"responsive\": true}                    ).then(function(){\n",
       "                            \n",
       "var gd = document.getElementById('a2f7447b-b8bf-4ec7-b5cf-a8ccab9940ce');\n",
       "var x = new MutationObserver(function (mutations, observer) {{\n",
       "        var display = window.getComputedStyle(gd).display;\n",
       "        if (!display || display === 'none') {{\n",
       "            console.log([gd, 'removed!']);\n",
       "            Plotly.purge(gd);\n",
       "            observer.disconnect();\n",
       "        }}\n",
       "}});\n",
       "\n",
       "// Listen for the removal of the full notebook cells\n",
       "var notebookContainer = gd.closest('#notebook-container');\n",
       "if (notebookContainer) {{\n",
       "    x.observe(notebookContainer, {childList: true});\n",
       "}}\n",
       "\n",
       "// Listen for the clearing of the current output cell\n",
       "var outputEl = gd.closest('.output');\n",
       "if (outputEl) {{\n",
       "    x.observe(outputEl, {childList: true});\n",
       "}}\n",
       "\n",
       "                        })                };                });            </script>        </div>"
      ]
     },
     "metadata": {},
     "output_type": "display_data"
    }
   ],
   "source": [
    "map = px.scatter_mapbox(final_df, lat=\"Hotel Latitude\", lon=\"Hotel Longitude\", color=\"Humidity\", hover_data=[\n",
    "    \"City\",\n",
    "    \"Country\",\n",
    "    \"Hotel Name\",\n",
    "    \"Hotel Latitude\",\n",
    "    \"Hotel Longitude\",\n",
    "    \"Humidity\"\n",
    "])\n",
    "\n",
    "map.show()"
   ]
  },
  {
   "cell_type": "markdown",
   "metadata": {},
   "source": [
    "##### Map above shows hotel recommendations for 12 cities that would have ideal weather for vacationers (as defined), color coded by humidity levels at each location."
   ]
  },
  {
   "cell_type": "code",
   "execution_count": null,
   "metadata": {},
   "outputs": [],
   "source": []
  }
 ],
 "metadata": {
  "environment": {
   "name": "common-cpu.m54",
   "type": "gcloud",
   "uri": "gcr.io/deeplearning-platform-release/base-cpu:m54"
  },
  "kernelspec": {
   "display_name": "Python 3",
   "language": "python",
   "name": "python3"
  },
  "language_info": {
   "codemirror_mode": {
    "name": "ipython",
    "version": 3
   },
   "file_extension": ".py",
   "mimetype": "text/x-python",
   "name": "python",
   "nbconvert_exporter": "python",
   "pygments_lexer": "ipython3",
   "version": "3.7.8"
  },
  "latex_envs": {
   "LaTeX_envs_menu_present": true,
   "autoclose": false,
   "autocomplete": true,
   "bibliofile": "biblio.bib",
   "cite_by": "apalike",
   "current_citInitial": 1,
   "eqLabelWithNumbers": true,
   "eqNumInitial": 1,
   "hotkeys": {
    "equation": "Ctrl-E",
    "itemize": "Ctrl-I"
   },
   "labels_anchors": false,
   "latex_user_defs": false,
   "report_style_numbering": false,
   "user_envs_cfg": false
  }
 },
 "nbformat": 4,
 "nbformat_minor": 4
}
